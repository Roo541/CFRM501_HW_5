{
 "cells": [
  {
   "cell_type": "code",
   "execution_count": 21,
   "metadata": {},
   "outputs": [],
   "source": [
    "import numpy as np\n",
    "import pandas as pd"
   ]
  },
  {
   "cell_type": "code",
   "execution_count": 2,
   "metadata": {},
   "outputs": [],
   "source": [
    "#Givens\n",
    "sigma1 = 0.38\n",
    "sigma2 = 0.12\n",
    "sigma11 = np.power(sigma1,2)\n",
    "sigma22 = np.power(sigma2,2)\n",
    "rho = 0.3\n",
    "sigma12 = rho*sigma1*sigma2\n",
    "r0= 0.10"
   ]
  },
  {
   "cell_type": "code",
   "execution_count": 3,
   "metadata": {},
   "outputs": [],
   "source": [
    "#Givens and calculations\n",
    "mu = np.array([[0.20],[0.13]])\n",
    "mu_t = np.array([[0.2,0.13]])\n",
    "mu_e = np.array([[0.1],[0.03]])\n",
    "mu_e_t = np.array([[0.1,0.03]])\n",
    "Sigma = np.array([[sigma11, sigma12],[sigma12, sigma22]])\n",
    "Sigma_inverse = np.linalg.inv(Sigma)\n",
    "one_v = np.array([[1.0],[1.0]])\n",
    "one_v_t = np.array([[1.0,1.0]])"
   ]
  },
  {
   "cell_type": "code",
   "execution_count": 4,
   "metadata": {},
   "outputs": [
    {
     "name": "stdout",
     "output_type": "stream",
     "text": [
      "[[0.2578125]\n",
      " [0.7421875]]\n"
     ]
    }
   ],
   "source": [
    "#part a Weight calculation\n",
    "top = np.dot(Sigma_inverse, mu_e)\n",
    "B = np.dot(one_v_t, Sigma_inverse)\n",
    "B = np.dot(B, mu)\n",
    "A = np.dot(one_v_t, Sigma_inverse)\n",
    "A = r0*np.dot(A, one_v)\n",
    "bottom = B-A\n",
    "w_t = top/bottom\n",
    "w_t_T = np.array([[0.2578125,0.7421875]])\n",
    "print(w_t)"
   ]
  },
  {
   "cell_type": "code",
   "execution_count": 5,
   "metadata": {},
   "outputs": [
    {
     "name": "stdout",
     "output_type": "stream",
     "text": [
      "[[0.14804688]]\n",
      "[[0.02276521]]\n",
      "[[0.15088144]]\n"
     ]
    }
   ],
   "source": [
    "mu_portfolio = r0 + np.dot(w_t_T,mu_e)\n",
    "print(mu_portfolio)\n",
    "sigma_p2 = np.dot(w_t_T, Sigma)\n",
    "sigma_p2 = np.dot(sigma_p2, w_t)\n",
    "sigma_p = np.sqrt(sigma_p2)\n",
    "print(sigma_p2)\n",
    "print(sigma_p)"
   ]
  },
  {
   "cell_type": "code",
   "execution_count": 9,
   "metadata": {},
   "outputs": [],
   "source": [
    "M=17.0\n",
    "W1=10.0\n",
    "W2=3.0\n",
    "W3=4.0\n",
    "gamma = 0.4738125\n",
    "gamma1 = 0.2\n",
    "gamma2 = 1.25"
   ]
  },
  {
   "cell_type": "code",
   "execution_count": 28,
   "metadata": {},
   "outputs": [
    {
     "data": {
      "text/plain": [
       "0.4738125000000001"
      ]
     },
     "execution_count": 28,
     "metadata": {},
     "output_type": "execute_result"
    }
   ],
   "source": [
    "#Check that gamma values are correct\n",
    "wealth = np.array([10.0,3.0,4.0])\n",
    "gamma_values = np.array([0.2,1.25,0.5762031250000001])\n",
    "summation = 0.0\n",
    "for i in range(len(wealth)):\n",
    "    valuex = (wealth[i]/17)*gamma_values[i]\n",
    "    summation += valuex\n",
    "summation"
   ]
  },
  {
   "cell_type": "code",
   "execution_count": 27,
   "metadata": {},
   "outputs": [
    {
     "data": {
      "text/html": [
       "<div>\n",
       "<style scoped>\n",
       "    .dataframe tbody tr th:only-of-type {\n",
       "        vertical-align: middle;\n",
       "    }\n",
       "\n",
       "    .dataframe tbody tr th {\n",
       "        vertical-align: top;\n",
       "    }\n",
       "\n",
       "    .dataframe thead th {\n",
       "        text-align: right;\n",
       "    }\n",
       "</style>\n",
       "<table border=\"1\" class=\"dataframe\">\n",
       "  <thead>\n",
       "    <tr style=\"text-align: right;\">\n",
       "      <th></th>\n",
       "      <th>risk_free</th>\n",
       "      <th>Asset_1</th>\n",
       "      <th>Asset_2</th>\n",
       "      <th>sum</th>\n",
       "    </tr>\n",
       "    <tr>\n",
       "      <th>investor</th>\n",
       "      <th></th>\n",
       "      <th></th>\n",
       "      <th></th>\n",
       "      <th></th>\n",
       "    </tr>\n",
       "  </thead>\n",
       "  <tbody>\n",
       "    <tr>\n",
       "      <th>1</th>\n",
       "      <td>0.577892</td>\n",
       "      <td>0.108825</td>\n",
       "      <td>0.313283</td>\n",
       "      <td>1.0</td>\n",
       "    </tr>\n",
       "    <tr>\n",
       "      <th>2</th>\n",
       "      <td>-1.638174</td>\n",
       "      <td>0.680154</td>\n",
       "      <td>1.958020</td>\n",
       "      <td>1.0</td>\n",
       "    </tr>\n",
       "    <tr>\n",
       "      <th>3</th>\n",
       "      <td>-0.216099</td>\n",
       "      <td>0.313526</td>\n",
       "      <td>0.902574</td>\n",
       "      <td>1.0</td>\n",
       "    </tr>\n",
       "  </tbody>\n",
       "</table>\n",
       "</div>"
      ],
      "text/plain": [
       "          risk_free   Asset_1   Asset_2  sum\n",
       "investor                                    \n",
       "1          0.577892  0.108825  0.313283  1.0\n",
       "2         -1.638174  0.680154  1.958020  1.0\n",
       "3         -0.216099  0.313526  0.902574  1.0"
      ]
     },
     "execution_count": 27,
     "metadata": {},
     "output_type": "execute_result"
    }
   ],
   "source": [
    "gamma_values = np.array([0.2,1.25,0.5762031250000001])\n",
    "weights = {'investor':[],'risk_free':[], 'Asset_1':[], 'Asset_2':[]}\n",
    "for i in range(len(gamma_values)):\n",
    "    W_1 = (gamma_values[i])*np.dot(Sigma_inverse, mu_e)\n",
    "    Asset_1 = W_1[0][0]\n",
    "    Asset_2 = W_1[1][0]\n",
    "    risk_free = 1 - Asset_1 - Asset_2\n",
    "    weights['investor'].append(i+1)\n",
    "    weights['risk_free'].append(risk_free)\n",
    "    weights['Asset_1'].append(Asset_1)\n",
    "    weights['Asset_2'].append(Asset_2)\n",
    "weights = pd.DataFrame.from_dict(weights)\n",
    "weights = weights.set_index('investor')\n",
    "weights['sum'] = weights.sum(axis=1)\n",
    "weights"
   ]
  },
  {
   "cell_type": "code",
   "execution_count": 38,
   "metadata": {},
   "outputs": [
    {
     "name": "stdout",
     "output_type": "stream",
     "text": [
      "Transpose Investor side:  [[ 4.3828125 12.6171875]]\n",
      "Transpose Market side:  [[ 4.3828125 12.6171875]]\n"
     ]
    }
   ],
   "source": [
    "gamma_values = np.array([0.2,1.25,0.5762031250000001])\n",
    "summation = 0.0\n",
    "for i in range(len(gamma_values)):\n",
    "    W_1 = (gamma_values[i])*np.dot(Sigma_inverse, mu_e)\n",
    "    value = wealth[i]*W_1\n",
    "    summation += value \n",
    "market = 17*w_t\n",
    "print('Transpose Investor side: ', np.transpose(summation))\n",
    "print('Transpose Market side: ', np.transpose(market))"
   ]
  },
  {
   "cell_type": "code",
   "execution_count": 41,
   "metadata": {},
   "outputs": [
    {
     "name": "stdout",
     "output_type": "stream",
     "text": [
      "1.3322676295501878e-15\n"
     ]
    }
   ],
   "source": [
    "summation = 0.0\n",
    "for i in range(len(weights)):\n",
    "    value = wealth[i]*weights['risk_free'][i+1]\n",
    "    summation += value\n",
    "print(summation)"
   ]
  },
  {
   "cell_type": "code",
   "execution_count": 44,
   "metadata": {},
   "outputs": [
    {
     "name": "stdout",
     "output_type": "stream",
     "text": [
      "Sum of Demand from all investors (Transpose): [[ 4.3828125 12.6171875]]\n",
      "Sum of Supply from market (Transpose) [[ 4.3828125 12.6171875]]\n"
     ]
    }
   ],
   "source": [
    "summation = 0.0\n",
    "for i in range(len(weights)):\n",
    "    value = (wealth[i] - wealth[i]*weights['risk_free'][i+1])*w_t \n",
    "    summation += value\n",
    "print('Sum of Demand from all investors (Transpose):', np.transpose(summation))\n",
    "print('Sum of Supply from market (Transpose)', np.transpose(market))"
   ]
  },
  {
   "cell_type": "code",
   "execution_count": 62,
   "metadata": {},
   "outputs": [
    {
     "data": {
      "text/plain": [
       "array([[0.14804687]])"
      ]
     },
     "execution_count": 62,
     "metadata": {},
     "output_type": "execute_result"
    }
   ],
   "source": [
    "mu_market = r0 + np.dot((np.transpose(w_t)),mu_e)\n",
    "mu_market"
   ]
  },
  {
   "cell_type": "code",
   "execution_count": 72,
   "metadata": {},
   "outputs": [
    {
     "name": "stdout",
     "output_type": "stream",
     "text": [
      "Beta_1:  2.0813008130081307\n",
      "Beta_2:  0.6243902439024391\n"
     ]
    }
   ],
   "source": [
    "mu_market = r0 + np.dot((np.transpose(w_t)),mu_e)\n",
    "Beta_1 = (0.1)/(mu_market[0][0]-r0)\n",
    "Beta_2 = (0.03)/(mu_market[0][0]-r0)\n",
    "print('Beta_1: ', Beta_1)\n",
    "print('Beta_2: ', Beta_2)"
   ]
  },
  {
   "cell_type": "code",
   "execution_count": 74,
   "metadata": {},
   "outputs": [
    {
     "data": {
      "text/plain": [
       "array([[0.03]])"
      ]
     },
     "execution_count": 74,
     "metadata": {},
     "output_type": "execute_result"
    }
   ],
   "source": [
    "Beta_2*(mu_market-r0)"
   ]
  },
  {
   "cell_type": "code",
   "execution_count": 71,
   "metadata": {},
   "outputs": [
    {
     "name": "stdout",
     "output_type": "stream",
     "text": [
      "2.0813008130081307 0.6243902439024391\n"
     ]
    }
   ],
   "source": []
  },
  {
   "cell_type": "code",
   "execution_count": 61,
   "metadata": {},
   "outputs": [
    {
     "name": "stdout",
     "output_type": "stream",
     "text": [
      "Computed value of mu_e (Transpose):  [[0.1  0.03]]\n",
      "Original value of mu_e (Transpose):  [[0.1  0.03]]\n"
     ]
    }
   ],
   "source": [
    "mu_market = r0 + np.dot((np.transpose(w_t)),mu_e)\n",
    "top = np.dot(Sigma, w_t)\n",
    "x1 = np.dot((np.transpose(w_t)),Sigma)\n",
    "bottom = np.dot(x1,w_t)\n",
    "total_value = (top/bottom)*(mu_market[0][0]-r0)\n",
    "print('Computed value of mu_e (Transpose): ', np.transpose(total_value))\n",
    "print('Original value of mu_e (Transpose): ', np.transpose(mu_e))"
   ]
  },
  {
   "cell_type": "code",
   "execution_count": 59,
   "metadata": {},
   "outputs": [
    {
     "data": {
      "text/plain": [
       "array([[0.1 ],\n",
       "       [0.03]])"
      ]
     },
     "execution_count": 59,
     "metadata": {},
     "output_type": "execute_result"
    }
   ],
   "source": [
    "total_value"
   ]
  },
  {
   "cell_type": "code",
   "execution_count": 66,
   "metadata": {},
   "outputs": [
    {
     "name": "stdout",
     "output_type": "stream",
     "text": [
      "[[0.02276521]]\n",
      "0.1444 0.0144\n"
     ]
    }
   ],
   "source": [
    "x3 = np.dot((np.transpose(w_t)),Sigma)\n",
    "value = np.dot(x3, w_t)\n",
    "print(value)\n",
    "print(sigma11, sigma22)"
   ]
  },
  {
   "cell_type": "markdown",
   "metadata": {},
   "source": []
  }
 ],
 "metadata": {
  "kernelspec": {
   "display_name": "Python 3.10.2 64-bit",
   "language": "python",
   "name": "python3"
  },
  "language_info": {
   "codemirror_mode": {
    "name": "ipython",
    "version": 3
   },
   "file_extension": ".py",
   "mimetype": "text/x-python",
   "name": "python",
   "nbconvert_exporter": "python",
   "pygments_lexer": "ipython3",
   "version": "3.10.2"
  },
  "orig_nbformat": 4,
  "vscode": {
   "interpreter": {
    "hash": "aee8b7b246df8f9039afb4144a1f6fd8d2ca17a180786b69acc140d282b71a49"
   }
  }
 },
 "nbformat": 4,
 "nbformat_minor": 2
}
