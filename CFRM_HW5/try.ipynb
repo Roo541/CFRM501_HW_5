{
 "cells": [
  {
   "cell_type": "code",
   "execution_count": 1,
   "metadata": {},
   "outputs": [],
   "source": [
    "import numpy as np"
   ]
  },
  {
   "cell_type": "code",
   "execution_count": 52,
   "metadata": {},
   "outputs": [],
   "source": [
    "sigma1 = 0.38\n",
    "sigma2 = 0.12\n",
    "sigma11 = np.power(sigma1,2)\n",
    "sigma22 = np.power(sigma2,2)\n",
    "rho = 0.3\n",
    "sigma12 = rho*sigma1*sigma2\n",
    "r0= 0.10"
   ]
  },
  {
   "cell_type": "code",
   "execution_count": 53,
   "metadata": {},
   "outputs": [],
   "source": [
    "mu = np.array([[0.20],[0.13]])\n",
    "mu_t = np.array([[0.2,0.13]])\n",
    "mu_e = np.array([[0.1],[0.03]])\n",
    "mu_e_t = np.array([[0.1,0.03]])\n",
    "Sigma = np.array([[sigma11, sigma12],[sigma12, sigma22]])\n",
    "Sigma_inverse = np.linalg.inv(Sigma)\n",
    "one_v = np.array([[1.0],[1.0]])\n",
    "one_v_t = np.array([[1.0,1.0]])"
   ]
  },
  {
   "cell_type": "code",
   "execution_count": 56,
   "metadata": {},
   "outputs": [
    {
     "name": "stdout",
     "output_type": "stream",
     "text": [
      "[[0.2578125]\n",
      " [0.7421875]]\n"
     ]
    }
   ],
   "source": [
    "top = np.dot(Sigma_inverse, mu_e)\n",
    "B = np.dot(one_v_t, Sigma_inverse)\n",
    "B = np.dot(B, mu)\n",
    "A = np.dot(one_v_t, Sigma_inverse)\n",
    "A = r0*np.dot(A, one_v)\n",
    "bottom = B-A\n",
    "w_t = top/bottom\n",
    "w_t_T = np.array([[0.2578125,0.7421875]])\n",
    "print(w_t)"
   ]
  },
  {
   "cell_type": "code",
   "execution_count": 47,
   "metadata": {},
   "outputs": [
    {
     "name": "stdout",
     "output_type": "stream",
     "text": [
      "[[0.14748229]]\n",
      "[[0.01734598]]\n",
      "[[0.13170412]]\n"
     ]
    }
   ],
   "source": [
    "mu_portfolio = r0 + np.dot(w_t_T,mu_e)\n",
    "print(mu_portfolio)\n",
    "sigma_p2 = np.dot(w_t_T, Sigma)\n",
    "sigma_p2 = np.dot(sigma_p2, w_t)\n",
    "sigma_p = np.sqrt(sigma_p2)\n",
    "print(sigma_p2)\n",
    "print(sigma_p)"
   ]
  },
  {
   "cell_type": "code",
   "execution_count": 57,
   "metadata": {},
   "outputs": [
    {
     "data": {
      "text/plain": [
       "array([[0.4738125]])"
      ]
     },
     "execution_count": 57,
     "metadata": {},
     "output_type": "execute_result"
    }
   ],
   "source": [
    "1/bottom"
   ]
  },
  {
   "cell_type": "code",
   "execution_count": 58,
   "metadata": {},
   "outputs": [
    {
     "data": {
      "text/plain": [
       "0.013679999999999998"
      ]
     },
     "execution_count": 58,
     "metadata": {},
     "output_type": "execute_result"
    }
   ],
   "source": [
    "sigma12"
   ]
  },
  {
   "cell_type": "code",
   "execution_count": 59,
   "metadata": {},
   "outputs": [
    {
     "data": {
      "text/plain": [
       "array([[-11.08629688],\n",
       "       [-11.08629688]])"
      ]
     },
     "execution_count": 59,
     "metadata": {},
     "output_type": "execute_result"
    }
   ],
   "source": [
    "t1 = 17*w_t\n",
    "t2= np.dot(Sigma_inverse, mu_e)\n",
    "(t1/t2-(10/0.2)-(3/1.25))*(1/4)"
   ]
  },
  {
   "cell_type": "code",
   "execution_count": 76,
   "metadata": {},
   "outputs": [],
   "source": [
    "M=17.0\n",
    "W1=10.0\n",
    "W2=3.0\n",
    "W3=4.0\n",
    "gamma = 0.4738125\n",
    "gamma1 = 0.2\n",
    "gamma2 = 1.25"
   ]
  },
  {
   "cell_type": "code",
   "execution_count": 81,
   "metadata": {},
   "outputs": [
    {
     "data": {
      "text/plain": [
       "1.7354990915746937"
      ]
     },
     "execution_count": 81,
     "metadata": {},
     "output_type": "execute_result"
    }
   ],
   "source": [
    "gamma3 = W3/((M*gamma)-(W1*gamma1)-(W2*gamma2))\n",
    "gamma3"
   ]
  },
  {
   "cell_type": "code",
   "execution_count": 82,
   "metadata": {},
   "outputs": [
    {
     "data": {
      "text/plain": [
       "0.5762031250000001"
      ]
     },
     "execution_count": 82,
     "metadata": {},
     "output_type": "execute_result"
    }
   ],
   "source": [
    "1/gamma3"
   ]
  },
  {
   "cell_type": "code",
   "execution_count": 83,
   "metadata": {},
   "outputs": [
    {
     "data": {
      "text/plain": [
       "0.6754010416666668"
      ]
     },
     "execution_count": 83,
     "metadata": {},
     "output_type": "execute_result"
    }
   ],
   "source": [
    "gamma_values = np.array([0.2,1.25,0.5762031250000001])\n",
    "gamma_values.mean()"
   ]
  },
  {
   "cell_type": "code",
   "execution_count": 84,
   "metadata": {},
   "outputs": [],
   "source": [
    "wealth = np.array([10.0,3.0,4.0])\n",
    "summation = 0.0\n",
    "for i in range(len(wealth)):\n",
    "    valuex = (wealth[i]/17)*gamma_values[i]\n",
    "    summation += valuex"
   ]
  },
  {
   "cell_type": "code",
   "execution_count": 85,
   "metadata": {},
   "outputs": [
    {
     "data": {
      "text/plain": [
       "0.4738125000000001"
      ]
     },
     "execution_count": 85,
     "metadata": {},
     "output_type": "execute_result"
    }
   ],
   "source": [
    "summation"
   ]
  },
  {
   "cell_type": "code",
   "execution_count": 105,
   "metadata": {},
   "outputs": [],
   "source": [
    "W_1 = gamma_values[2]*np.dot(Sigma_inverse, mu_e)\n",
    "W_1_T = np.matrix.transpose(W_1)"
   ]
  },
  {
   "cell_type": "code",
   "execution_count": 106,
   "metadata": {},
   "outputs": [
    {
     "data": {
      "text/plain": [
       "array([[1.21609946]])"
      ]
     },
     "execution_count": 106,
     "metadata": {},
     "output_type": "execute_result"
    }
   ],
   "source": [
    "np.dot(W_1_T, one_v)"
   ]
  },
  {
   "cell_type": "code",
   "execution_count": 107,
   "metadata": {},
   "outputs": [
    {
     "data": {
      "text/plain": [
       "array([[-0.21609946]])"
      ]
     },
     "execution_count": 107,
     "metadata": {},
     "output_type": "execute_result"
    }
   ],
   "source": [
    "1-np.dot(W_1_T, one_v)"
   ]
  },
  {
   "cell_type": "code",
   "execution_count": 137,
   "metadata": {},
   "outputs": [
    {
     "data": {
      "text/plain": [
       "0.21237030996609177"
      ]
     },
     "execution_count": 137,
     "metadata": {},
     "output_type": "execute_result"
    }
   ],
   "source": [
    "W_1[1][0]"
   ]
  },
  {
   "cell_type": "code",
   "execution_count": null,
   "metadata": {},
   "outputs": [],
   "source": [
    "import pandas as pd"
   ]
  },
  {
   "cell_type": "code",
   "execution_count": 151,
   "metadata": {},
   "outputs": [
    {
     "data": {
      "text/html": [
       "<div>\n",
       "<style scoped>\n",
       "    .dataframe tbody tr th:only-of-type {\n",
       "        vertical-align: middle;\n",
       "    }\n",
       "\n",
       "    .dataframe tbody tr th {\n",
       "        vertical-align: top;\n",
       "    }\n",
       "\n",
       "    .dataframe thead th {\n",
       "        text-align: right;\n",
       "    }\n",
       "</style>\n",
       "<table border=\"1\" class=\"dataframe\">\n",
       "  <thead>\n",
       "    <tr style=\"text-align: right;\">\n",
       "      <th></th>\n",
       "      <th>risk_free</th>\n",
       "      <th>Asset_1</th>\n",
       "      <th>Asset_2</th>\n",
       "    </tr>\n",
       "    <tr>\n",
       "      <th>investor</th>\n",
       "      <th></th>\n",
       "      <th></th>\n",
       "      <th></th>\n",
       "    </tr>\n",
       "  </thead>\n",
       "  <tbody>\n",
       "    <tr>\n",
       "      <th>1</th>\n",
       "      <td>0.577892</td>\n",
       "      <td>0.108825</td>\n",
       "      <td>0.313283</td>\n",
       "    </tr>\n",
       "    <tr>\n",
       "      <th>2</th>\n",
       "      <td>-1.638174</td>\n",
       "      <td>0.680154</td>\n",
       "      <td>1.958020</td>\n",
       "    </tr>\n",
       "    <tr>\n",
       "      <th>3</th>\n",
       "      <td>-0.216099</td>\n",
       "      <td>0.313526</td>\n",
       "      <td>0.902574</td>\n",
       "    </tr>\n",
       "  </tbody>\n",
       "</table>\n",
       "</div>"
      ],
      "text/plain": [
       "          risk_free   Asset_1   Asset_2\n",
       "investor                               \n",
       "1          0.577892  0.108825  0.313283\n",
       "2         -1.638174  0.680154  1.958020\n",
       "3         -0.216099  0.313526  0.902574"
      ]
     },
     "execution_count": 151,
     "metadata": {},
     "output_type": "execute_result"
    }
   ],
   "source": [
    "gamma_values = np.array([0.2,1.25,0.5762031250000001])\n",
    "weights = {'investor':[],'risk_free':[], 'Asset_1':[], 'Asset_2':[]}\n",
    "for i in range(len(gamma_values)):\n",
    "    W_1 = (gamma_values[i])*np.dot(Sigma_inverse, mu_e)\n",
    "    Asset_1 = W_1[0][0]\n",
    "    Asset_2 = W_1[1][0]\n",
    "    risk_free = 1 - Asset_1 - Asset_2\n",
    "    weights['investor'].append(i+1)\n",
    "    weights['risk_free'].append(risk_free)\n",
    "    weights['Asset_1'].append(Asset_1)\n",
    "    weights['Asset_2'].append(Asset_2)\n",
    "weights = pd.DataFrame.from_dict(weights)\n",
    "weights = weights.set_index('investor')\n",
    "weights"
   ]
  },
  {
   "cell_type": "code",
   "execution_count": 145,
   "metadata": {},
   "outputs": [],
   "source": []
  },
  {
   "cell_type": "code",
   "execution_count": 146,
   "metadata": {},
   "outputs": [
    {
     "data": {
      "text/html": [
       "<div>\n",
       "<style scoped>\n",
       "    .dataframe tbody tr th:only-of-type {\n",
       "        vertical-align: middle;\n",
       "    }\n",
       "\n",
       "    .dataframe tbody tr th {\n",
       "        vertical-align: top;\n",
       "    }\n",
       "\n",
       "    .dataframe thead th {\n",
       "        text-align: right;\n",
       "    }\n",
       "</style>\n",
       "<table border=\"1\" class=\"dataframe\">\n",
       "  <thead>\n",
       "    <tr style=\"text-align: right;\">\n",
       "      <th></th>\n",
       "      <th>investor</th>\n",
       "      <th>risk_free</th>\n",
       "      <th>Asset_1</th>\n",
       "      <th>Asset_2</th>\n",
       "    </tr>\n",
       "  </thead>\n",
       "  <tbody>\n",
       "    <tr>\n",
       "      <th>0</th>\n",
       "      <td>1</td>\n",
       "      <td>0.577892</td>\n",
       "      <td>0.108825</td>\n",
       "      <td>0.313283</td>\n",
       "    </tr>\n",
       "    <tr>\n",
       "      <th>1</th>\n",
       "      <td>2</td>\n",
       "      <td>-1.638174</td>\n",
       "      <td>0.680154</td>\n",
       "      <td>1.958020</td>\n",
       "    </tr>\n",
       "    <tr>\n",
       "      <th>2</th>\n",
       "      <td>3</td>\n",
       "      <td>-0.216099</td>\n",
       "      <td>0.313526</td>\n",
       "      <td>0.902574</td>\n",
       "    </tr>\n",
       "  </tbody>\n",
       "</table>\n",
       "</div>"
      ],
      "text/plain": [
       "   investor  risk_free   Asset_1   Asset_2\n",
       "0         1   0.577892  0.108825  0.313283\n",
       "1         2  -1.638174  0.680154  1.958020\n",
       "2         3  -0.216099  0.313526  0.902574"
      ]
     },
     "execution_count": 146,
     "metadata": {},
     "output_type": "execute_result"
    }
   ],
   "source": [
    "weights"
   ]
  },
  {
   "cell_type": "code",
   "execution_count": null,
   "metadata": {},
   "outputs": [],
   "source": []
  }
 ],
 "metadata": {
  "interpreter": {
   "hash": "b0fa6594d8f4cbf19f97940f81e996739fb7646882a419484c72d19e05852a7e"
  },
  "kernelspec": {
   "display_name": "Python 3.10.8 64-bit",
   "name": "python3"
  },
  "language_info": {
   "codemirror_mode": {
    "name": "ipython",
    "version": 3
   },
   "file_extension": ".py",
   "mimetype": "text/x-python",
   "name": "python",
   "nbconvert_exporter": "python",
   "pygments_lexer": "ipython3",
   "version": "3.10.8"
  },
  "orig_nbformat": 4
 },
 "nbformat": 4,
 "nbformat_minor": 2
}
